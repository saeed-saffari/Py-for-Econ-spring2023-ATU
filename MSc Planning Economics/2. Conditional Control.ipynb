{
 "cells": [
  {
   "cell_type": "markdown",
   "metadata": {},
   "source": [
    "# <center> Loop, Conditional Control"
   ]
  },
  {
   "cell_type": "markdown",
   "metadata": {},
   "source": [
    "<img src = \"https://github.com/saeed-saffari/alzahra-workshop-spr2021/blob/main/lecture/PIC/Loops-in-Python.png?raw=true\" >"
   ]
  },
  {
   "cell_type": "markdown",
   "metadata": {},
   "source": [
    "# <center> Loop and Conditional Control \n",
    "## for"
   ]
  },
  {
   "cell_type": "code",
   "execution_count": null,
   "metadata": {},
   "outputs": [],
   "source": [
    "for ... in ... :\n",
    "    ...\n",
    "    ...\n",
    "    ..."
   ]
  },
  {
   "cell_type": "code",
   "execution_count": 3,
   "metadata": {},
   "outputs": [
    {
     "name": "stdout",
     "output_type": "stream",
     "text": [
      "1\n",
      "4\n",
      "7\n",
      "10\n"
     ]
    }
   ],
   "source": [
    "my_list = [1,4,7,10]\n",
    "\n",
    "for num in my_list:\n",
    "    print(num)    "
   ]
  },
  {
   "cell_type": "code",
   "execution_count": 14,
   "metadata": {},
   "outputs": [
    {
     "name": "stdout",
     "output_type": "stream",
     "text": [
      "Hi\n",
      "SAEED\n",
      "Hi\n",
      "YALDA\n",
      "Hi\n",
      "SAJJAD\n",
      "Hi\n",
      "HOSSEIN\n",
      "Hi\n",
      "HADISE\n",
      "Bye\n"
     ]
    }
   ],
   "source": [
    "name_list = ['Saeed', 'Yalda', 'Sajjad', 'Hossein', 'Hadise']\n",
    "\n",
    "for name in name_list:\n",
    "    print('Hi')\n",
    "    print(name.upper())\n",
    "print('Bye')"
   ]
  },
  {
   "cell_type": "code",
   "execution_count": 20,
   "metadata": {},
   "outputs": [
    {
     "data": {
      "text/plain": [
       "[1, 2, 3, 4, 5, 6, 7, 8, 9, 10]"
      ]
     },
     "execution_count": 20,
     "metadata": {},
     "output_type": "execute_result"
    }
   ],
   "source": [
    "list(range(1,11))"
   ]
  },
  {
   "cell_type": "code",
   "execution_count": 22,
   "metadata": {},
   "outputs": [
    {
     "name": "stdout",
     "output_type": "stream",
     "text": [
      "4.5\n",
      "10.0\n",
      "17.5\n",
      "27.0\n",
      "38.5\n",
      "52.0\n",
      "67.5\n",
      "85.0\n",
      "104.5\n",
      "126.0\n"
     ]
    }
   ],
   "source": [
    "for i in range(1,11):\n",
    "    print(i**2 + 2*i + i/2 + 1)"
   ]
  },
  {
   "cell_type": "code",
   "execution_count": null,
   "metadata": {},
   "outputs": [],
   "source": []
  },
  {
   "cell_type": "markdown",
   "metadata": {},
   "source": [
    "## while (pass, continue, break)"
   ]
  },
  {
   "cell_type": "markdown",
   "metadata": {},
   "source": [
    "<img src = \"https://github.com/saeed-saffari/alzahra-workshop-spr2021/blob/main/lecture/PIC/Looping.jpg?raw=true\">"
   ]
  },
  {
   "cell_type": "code",
   "execution_count": 30,
   "metadata": {},
   "outputs": [
    {
     "name": "stdout",
     "output_type": "stream",
     "text": [
      "0\n",
      "1\n",
      "2\n",
      "3\n",
      "4\n",
      "5\n",
      "6\n",
      "7\n",
      "8\n",
      "9\n",
      "10\n",
      "end\n"
     ]
    }
   ],
   "source": [
    "n = 0\n",
    "\n",
    "while n <= 10:\n",
    "    print(n)\n",
    "    n = n + 1   # n += 1\n",
    "    \n",
    "print('end')  "
   ]
  },
  {
   "cell_type": "code",
   "execution_count": 24,
   "metadata": {},
   "outputs": [
    {
     "data": {
      "text/plain": [
       "False"
      ]
     },
     "execution_count": 24,
     "metadata": {},
     "output_type": "execute_result"
    }
   ],
   "source": [
    "n > 10"
   ]
  },
  {
   "cell_type": "code",
   "execution_count": 36,
   "metadata": {},
   "outputs": [
    {
     "name": "stdout",
     "output_type": "stream",
     "text": [
      "1\n",
      "0.2\n",
      "0.04\n",
      "0.008\n",
      "0.0016\n",
      "0.00032\n"
     ]
    }
   ],
   "source": [
    "x = 1\n",
    "\n",
    "while x > 1e-4:  #10**(-4):\n",
    "    print(x)\n",
    "    x = x / 5"
   ]
  },
  {
   "cell_type": "code",
   "execution_count": 42,
   "metadata": {},
   "outputs": [
    {
     "data": {
      "text/plain": [
       "0.0356"
      ]
     },
     "execution_count": 42,
     "metadata": {},
     "output_type": "execute_result"
    }
   ],
   "source": [
    "3.56e-2"
   ]
  },
  {
   "cell_type": "code",
   "execution_count": 33,
   "metadata": {},
   "outputs": [
    {
     "data": {
      "text/plain": [
       "True"
      ]
     },
     "execution_count": 33,
     "metadata": {},
     "output_type": "execute_result"
    }
   ],
   "source": [
    "x = 1\n",
    "x > 10**(-4)"
   ]
  },
  {
   "cell_type": "code",
   "execution_count": null,
   "metadata": {},
   "outputs": [],
   "source": []
  },
  {
   "cell_type": "markdown",
   "metadata": {},
   "source": [
    "## if, elif , else"
   ]
  },
  {
   "cell_type": "markdown",
   "metadata": {},
   "source": [
    "<img src = \"https://github.com/saeed-saffari/alzahra-workshop-spr2021/blob/main/lecture/PIC/if-else.jpg?raw=true\" width = \"650\">"
   ]
  },
  {
   "cell_type": "code",
   "execution_count": 43,
   "metadata": {},
   "outputs": [],
   "source": [
    "if 3 < 2:\n",
    "    print('That is True!')"
   ]
  },
  {
   "cell_type": "code",
   "execution_count": 44,
   "metadata": {},
   "outputs": [
    {
     "data": {
      "text/plain": [
       "False"
      ]
     },
     "execution_count": 44,
     "metadata": {},
     "output_type": "execute_result"
    }
   ],
   "source": [
    "3 < 2"
   ]
  },
  {
   "cell_type": "code",
   "execution_count": 45,
   "metadata": {},
   "outputs": [
    {
     "name": "stdout",
     "output_type": "stream",
     "text": [
      "That is True!\n"
     ]
    }
   ],
   "source": [
    "if 3 > 2:\n",
    "    print('That is True!')"
   ]
  },
  {
   "cell_type": "code",
   "execution_count": 46,
   "metadata": {},
   "outputs": [
    {
     "data": {
      "text/plain": [
       "True"
      ]
     },
     "execution_count": 46,
     "metadata": {},
     "output_type": "execute_result"
    }
   ],
   "source": [
    "3 > 2"
   ]
  },
  {
   "cell_type": "code",
   "execution_count": 55,
   "metadata": {},
   "outputs": [
    {
     "name": "stdout",
     "output_type": "stream",
     "text": [
      "Enter your age: 4\n",
      "You can NOT vote yet!\n",
      "You can vote after 14 year(s).\n"
     ]
    }
   ],
   "source": [
    "age = int(input('Enter your age: '))\n",
    "\n",
    "if age >= 18:\n",
    "    print('You can vote!')\n",
    "else:\n",
    "    print('You can NOT vote yet!')\n",
    "    print('You can vote after {} year(s).'.format(18-age))"
   ]
  },
  {
   "cell_type": "code",
   "execution_count": 2,
   "metadata": {},
   "outputs": [
    {
     "name": "stdout",
     "output_type": "stream",
     "text": [
      "Enter your age: 16\n",
      "Your age is 16 and your cost is 5$.\n"
     ]
    }
   ],
   "source": [
    "age = int(input('Enter your age: '))\n",
    "\n",
    "if age <= 4:\n",
    "    price = 0\n",
    "elif age <= 16:\n",
    "    price = 5\n",
    "elif age > 16:\n",
    "    price = 10\n",
    "\n",
    "print('Your age is ' + str(age) +  ' and your cost is ' + str(price) +  '$.')"
   ]
  },
  {
   "cell_type": "code",
   "execution_count": null,
   "metadata": {},
   "outputs": [],
   "source": []
  },
  {
   "cell_type": "code",
   "execution_count": 8,
   "metadata": {},
   "outputs": [
    {
     "name": "stdout",
     "output_type": "stream",
     "text": [
      "1 is ODD\n",
      "4 is EVEN\n",
      "7 is ODD\n",
      "8 is EVEN\n",
      "9 is ODD\n",
      "19 is ODD\n",
      "100 is EVEN\n"
     ]
    }
   ],
   "source": [
    "my_list = [1,4,7,8,9,19,100]\n",
    "\n",
    "for num in my_list:\n",
    "    #print(num)\n",
    "    if num % 2 == 0:\n",
    "        print(num, 'is EVEN')\n",
    "    else:\n",
    "    #elif num % 2 != 0 :\n",
    "    #elif num % 2 == 1:\n",
    "        print(num, 'is ODD')"
   ]
  },
  {
   "cell_type": "code",
   "execution_count": null,
   "metadata": {},
   "outputs": [],
   "source": []
  },
  {
   "cell_type": "markdown",
   "metadata": {},
   "source": [
    "<img src = \"https://github.com/saeed-saffari/alzahra-workshop-spr2021/blob/main/lecture/PIC/whlie%20expr.png?raw=true\" width = \"400\">"
   ]
  },
  {
   "cell_type": "code",
   "execution_count": 10,
   "metadata": {},
   "outputs": [
    {
     "name": "stdout",
     "output_type": "stream",
     "text": [
      "n\n",
      "o\n",
      "h\n",
      "i\n",
      "n\n",
      "g\n"
     ]
    }
   ],
   "source": [
    "mystring = 'nothing'\n",
    "\n",
    "for letter in mystring:\n",
    "    if letter == 't':\n",
    "        continue\n",
    "    print(letter)"
   ]
  },
  {
   "cell_type": "code",
   "execution_count": 14,
   "metadata": {},
   "outputs": [
    {
     "name": "stdout",
     "output_type": "stream",
     "text": [
      "n\n",
      "o\n"
     ]
    }
   ],
   "source": [
    "mystring = 'nothing'\n",
    "\n",
    "for letter in mystring:\n",
    "    #print(letter)\n",
    "    if letter == 't':\n",
    "        break\n",
    "    print(letter)"
   ]
  },
  {
   "cell_type": "code",
   "execution_count": null,
   "metadata": {},
   "outputs": [],
   "source": []
  },
  {
   "cell_type": "code",
   "execution_count": null,
   "metadata": {},
   "outputs": [],
   "source": []
  }
 ],
 "metadata": {
  "kernelspec": {
   "display_name": "Python 3 (ipykernel)",
   "language": "python",
   "name": "python3"
  },
  "language_info": {
   "codemirror_mode": {
    "name": "ipython",
    "version": 3
   },
   "file_extension": ".py",
   "mimetype": "text/x-python",
   "name": "python",
   "nbconvert_exporter": "python",
   "pygments_lexer": "ipython3",
   "version": "3.9.5"
  }
 },
 "nbformat": 4,
 "nbformat_minor": 4
}
